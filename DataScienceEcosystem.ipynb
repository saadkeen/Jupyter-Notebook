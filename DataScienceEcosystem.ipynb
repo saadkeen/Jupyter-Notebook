{
 "cells": [
  {
   "cell_type": "markdown",
   "id": "160125c6",
   "metadata": {},
   "source": [
    "# Data Science Tools and Ecosystem"
   ]
  },
  {
   "cell_type": "markdown",
   "id": "63b20285",
   "metadata": {},
   "source": [
    "In this notebook, Data Science Tools and Ecosystem are summarized."
   ]
  },
  {
   "cell_type": "markdown",
   "id": "94ae4be7",
   "metadata": {},
   "source": [
    "<u><b>Objectives:</b></u>\n",
    "\n",
    "Some of the key take aways from this notebook are:\n",
    "\n",
    "- Popular languages for Data Scientists\n",
    "- Commonly used libraries for Data Scientists\n",
    "- Creating tables\n",
    "- Open source development environment tools for Data Science\n",
    "- Arithmetic Expressions in Python"
   ]
  },
  {
   "cell_type": "markdown",
   "id": "93d0ad99",
   "metadata": {},
   "source": [
    "Some of the popular languages that Data Scientists use are:\n",
    "1. Python\n",
    "2. R\n",
    "3. Scala\n",
    "4. Julia"
   ]
  },
  {
   "cell_type": "markdown",
   "id": "47c6da05",
   "metadata": {},
   "source": [
    "Some of the commonly used libraries used by Data Scientists include:\n",
    "1. Pandas\n",
    "2. Numpy\n",
    "3. Scikit-learn\n",
    "4. Matplotlib\n",
    "5. Scipy"
   ]
  },
  {
   "cell_type": "markdown",
   "id": "721c381e",
   "metadata": {},
   "source": [
    "Some of the most popular development environment tools for data science are provided below in a tabular form:\n",
    "|Data Science Tools|\n",
    "|------------------|\n",
    "|Jupyter Notebook|\n",
    "|R Studio|\n",
    "|Apache Zeppelin|"
   ]
  },
  {
   "cell_type": "markdown",
   "id": "2c37b9fa",
   "metadata": {},
   "source": [
    "### Below are a few examples of evaluating arithmetic expressions in Python.\n",
    "<u><b> Example 01 </b></u>\n",
    "<br>\n",
    "Input: 5+2\n",
    "<br>\n",
    "Output: 7\n",
    "\n",
    "<u><b> Example 02 </b></u>\n",
    "<br>\n",
    "Input: 4/2\n",
    "<br>\n",
    "Output: 2\n",
    "\n",
    "<u><b> Example 03 </b></u>\n",
    "<br>\n",
    "Input: (1+2)*3\n",
    "<br>\n",
    "Output: 9"
   ]
  },
  {
   "cell_type": "code",
   "execution_count": 3,
   "id": "e876090e",
   "metadata": {},
   "outputs": [
    {
     "data": {
      "text/plain": [
       "17"
      ]
     },
     "execution_count": 3,
     "metadata": {},
     "output_type": "execute_result"
    }
   ],
   "source": [
    "#This a simple arithmetic expression to mutiply then add integers\n",
    "(3*4)+5"
   ]
  },
  {
   "cell_type": "code",
   "execution_count": 4,
   "id": "cd7af6a1",
   "metadata": {},
   "outputs": [
    {
     "data": {
      "text/plain": [
       "3.3333333333333335"
      ]
     },
     "execution_count": 4,
     "metadata": {},
     "output_type": "execute_result"
    }
   ],
   "source": [
    "#This will convert 200 minutes to hours by diving by 60\n",
    "200/60"
   ]
  },
  {
   "cell_type": "markdown",
   "id": "de25bb9b",
   "metadata": {},
   "source": [
    "## Author\n",
    "Saad Asghar Keen"
   ]
  },
  {
   "cell_type": "code",
   "execution_count": null,
   "id": "8291d30f",
   "metadata": {},
   "outputs": [],
   "source": []
  }
 ],
 "metadata": {
  "kernelspec": {
   "display_name": "Python 3 (ipykernel)",
   "language": "python",
   "name": "python3"
  },
  "language_info": {
   "codemirror_mode": {
    "name": "ipython",
    "version": 3
   },
   "file_extension": ".py",
   "mimetype": "text/x-python",
   "name": "python",
   "nbconvert_exporter": "python",
   "pygments_lexer": "ipython3",
   "version": "3.11.4"
  }
 },
 "nbformat": 4,
 "nbformat_minor": 5
}
